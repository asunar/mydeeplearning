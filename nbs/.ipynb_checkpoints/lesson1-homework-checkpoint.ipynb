{
 "cells": [
  {
   "cell_type": "markdown",
   "metadata": {},
   "source": [
    "# Dogs Cats redux"
   ]
  },
  {
   "cell_type": "code",
   "execution_count": 1,
   "metadata": {
    "collapsed": false
   },
   "outputs": [
    {
     "name": "stderr",
     "output_type": "stream",
     "text": [
      "Using gpu device 0: Tesla K80 (CNMeM is disabled, cuDNN 5103)\n",
      "/home/ubuntu/anaconda2/lib/python2.7/site-packages/theano/sandbox/cuda/__init__.py:600: UserWarning: Your cuDNN version is more recent than the one Theano officially supports. If you see any problems, try updating Theano or downgrading cuDNN to version 5.\n",
      "  warnings.warn(warn)\n",
      "Using Theano backend.\n"
     ]
    }
   ],
   "source": [
    "%matplotlib inline\n",
    "path = \"data/redux/\"\n",
    "import utils; reload(utils)\n",
    "from utils import *"
   ]
  },
  {
   "cell_type": "code",
   "execution_count": 2,
   "metadata": {
    "collapsed": false
   },
   "outputs": [],
   "source": [
    "batch_size=64"
   ]
  },
  {
   "cell_type": "code",
   "execution_count": 3,
   "metadata": {
    "collapsed": false
   },
   "outputs": [
    {
     "name": "stdout",
     "output_type": "stream",
     "text": [
      "/home/ubuntu/mydeeplearning1/nbs/data/redux\n"
     ]
    }
   ],
   "source": [
    "# Clean up to enable rerunning notebook\n",
    "%cd data/redux\n",
    "!rm -rf test\n",
    "!rm -rf train"
   ]
  },
  {
   "cell_type": "code",
   "execution_count": 4,
   "metadata": {
    "collapsed": false
   },
   "outputs": [
    {
     "name": "stdout",
     "output_type": "stream",
     "text": [
      "sample_submission.csv  \u001b[0m\u001b[01;31mtest.zip\u001b[0m  \u001b[01;31mtrain.zip\u001b[0m\r\n"
     ]
    }
   ],
   "source": [
    "# mkdir data/redux\n",
    "# cd data/redux\n",
    "# Commented to avoid downloading during each notebook run\n",
    "# kg download -c dogs-vs-cats-redux-kernels-edition\n",
    "\n",
    "# downloaded data from kaggle\n",
    "%ls ."
   ]
  },
  {
   "cell_type": "code",
   "execution_count": 5,
   "metadata": {
    "collapsed": false
   },
   "outputs": [
    {
     "name": "stdout",
     "output_type": "stream",
     "text": [
      "sample_submission.csv  \u001b[0m\u001b[01;34mtest\u001b[0m/  \u001b[01;31mtest.zip\u001b[0m  \u001b[01;34mtrain\u001b[0m/  \u001b[01;31mtrain.zip\u001b[0m\r\n"
     ]
    }
   ],
   "source": [
    "# This may take a while\n",
    "!unzip -q test.zip\n",
    "!unzip -q train.zip\n",
    "%ls ."
   ]
  },
  {
   "cell_type": "code",
   "execution_count": 16,
   "metadata": {
    "collapsed": false
   },
   "outputs": [
    {
     "name": "stdout",
     "output_type": "stream",
     "text": [
      "\u001b[01;34m.\u001b[00m\n",
      "├── \u001b[01;34mtest\u001b[00m\n",
      "└── \u001b[01;34mtrain\u001b[00m\n",
      "\n",
      "2 directories\n",
      "----Test-----\n",
      "\u001b[0m\u001b[01;35m10000.jpg\u001b[0m\n",
      "\u001b[01;35m10001.jpg\u001b[0m\n",
      "\u001b[01;35m10002.jpg\u001b[0m\n",
      "\u001b[01;35m10003.jpg\u001b[0m\n",
      "\u001b[01;35m10004.jpg\u001b[0m\n",
      "ls: write error\n",
      "12500\n",
      "----Train-----\n",
      "\u001b[0m\u001b[01;35mcat.0.jpg\u001b[0m\n",
      "\u001b[01;35mcat.10000.jpg\u001b[0m\n",
      "\u001b[01;35mcat.10001.jpg\u001b[0m\n",
      "\u001b[01;35mcat.10002.jpg\u001b[0m\n",
      "\u001b[01;35mcat.10003.jpg\u001b[0m\n",
      "ls: write error\n",
      "dog.9998.jpg\n",
      "dog.9999.jpg\n",
      "dog.999.jpg\n",
      "dog.99.jpg\n",
      "dog.9.jpg\n",
      "25000\n"
     ]
    }
   ],
   "source": [
    "!tree -d\n",
    "!echo ----Test-----\n",
    "%ls test/ | head -5 && ls test | wc -l\n",
    "!echo ----Train-----\n",
    "%ls train/ | head -5 && ls train/ | tail -5 &&ls train | wc -l"
   ]
  },
  {
   "cell_type": "markdown",
   "metadata": {},
   "source": [
    "## Create a validation set sample"
   ]
  },
  {
   "cell_type": "code",
   "execution_count": 24,
   "metadata": {
    "collapsed": false
   },
   "outputs": [
    {
     "name": "stdout",
     "output_type": "stream",
     "text": [
      "[Errno 2] No such file or directory: 'train'\n",
      "/home/ubuntu/mydeeplearning1/nbs/data/redux/train\n",
      "mkdir: cannot create directory ‘../valid’: File exists\r\n"
     ]
    }
   ],
   "source": [
    "%cd train\n",
    "%mkdir ../valid"
   ]
  },
  {
   "cell_type": "code",
   "execution_count": 27,
   "metadata": {
    "collapsed": false
   },
   "outputs": [
    {
     "name": "stdout",
     "output_type": "stream",
     "text": [
      "\u001b[01;34m.\u001b[00m\r\n",
      "├── \u001b[01;34mtest\u001b[00m\r\n",
      "├── \u001b[01;34mtrain\u001b[00m\r\n",
      "└── \u001b[01;34mvalid\u001b[00m\r\n",
      "\r\n",
      "3 directories\r\n"
     ]
    }
   ],
   "source": [
    "!cd ../ && tree -d"
   ]
  },
  {
   "cell_type": "code",
   "execution_count": 18,
   "metadata": {
    "collapsed": false
   },
   "outputs": [],
   "source": [
    "g = glob('*.jpg')\n",
    "shuf = np.random.permutation(g)\n",
    "for i in range(2000): os.rename(shuf[i], '../valid/' + shuf[i])"
   ]
  },
  {
   "cell_type": "code",
   "execution_count": 29,
   "metadata": {
    "collapsed": false
   },
   "outputs": [
    {
     "name": "stdout",
     "output_type": "stream",
     "text": [
      "----Valid----\n",
      "\u001b[0m\u001b[01;35mcat.10002.jpg\u001b[0m\n",
      "\u001b[01;35mcat.10013.jpg\u001b[0m\n",
      "\u001b[01;35mcat.10017.jpg\u001b[0m\n",
      "\u001b[01;35mcat.10034.jpg\u001b[0m\n",
      "\u001b[01;35mcat.10037.jpg\u001b[0m\n",
      "ls: write error\n",
      "dog.992.jpg\n",
      "dog.9946.jpg\n",
      "dog.9971.jpg\n",
      "dog.9975.jpg\n",
      "dog.9976.jpg\n",
      "2000\n",
      "23000\n"
     ]
    }
   ],
   "source": [
    "!echo ----Valid----\n",
    "%ls ../valid | head -5 && ls ../valid  | tail -5 && ls ../valid  | wc -l\n",
    "%ls | wc -l\n",
    "\n",
    "# 2000 random files moved from /train to /valid\n",
    "# /valid has 2000 files\n",
    "# Now /train has 25000 - 2000 = 23000"
   ]
  },
  {
   "cell_type": "code",
   "execution_count": 30,
   "metadata": {
    "collapsed": false
   },
   "outputs": [],
   "source": [
    "\n",
    "%mkdir ../sample\n",
    "%mkdir ../sample/train\n",
    "%mkdir ../sample/valid"
   ]
  },
  {
   "cell_type": "code",
   "execution_count": 32,
   "metadata": {
    "collapsed": false
   },
   "outputs": [
    {
     "name": "stdout",
     "output_type": "stream",
     "text": [
      "\u001b[01;34m.\u001b[00m\r\n",
      "├── \u001b[01;34msample\u001b[00m\r\n",
      "│   ├── \u001b[01;34mtrain\u001b[00m\r\n",
      "│   └── \u001b[01;34mvalid\u001b[00m\r\n",
      "├── \u001b[01;34mtest\u001b[00m\r\n",
      "├── \u001b[01;34mtrain\u001b[00m\r\n",
      "└── \u001b[01;34mvalid\u001b[00m\r\n",
      "\r\n",
      "6 directories\r\n"
     ]
    }
   ],
   "source": [
    "!cd ../ && tree -d\n",
    "# Created /sample, /sample/train, /sample/valid folders"
   ]
  },
  {
   "cell_type": "code",
   "execution_count": 33,
   "metadata": {
    "collapsed": true
   },
   "outputs": [],
   "source": [
    "from shutil import copyfile\n",
    "g = glob('*.jpg')\n",
    "shuf = np.random.permutation(g)\n",
    "for i in range(200): copyfile(shuf[i], '../sample/train/' + shuf[i])"
   ]
  },
  {
   "cell_type": "code",
   "execution_count": 35,
   "metadata": {
    "collapsed": false
   },
   "outputs": [
    {
     "name": "stdout",
     "output_type": "stream",
     "text": [
      "\u001b[0m\u001b[01;35mcat.10079.jpg\u001b[0m\n",
      "\u001b[01;35mcat.10084.jpg\u001b[0m\n",
      "\u001b[01;35mcat.10318.jpg\u001b[0m\n",
      "\u001b[01;35mcat.1032.jpg\u001b[0m\n",
      "\u001b[01;35mcat.10357.jpg\u001b[0m\n",
      "ls: write error\n",
      "dog.9100.jpg\n",
      "dog.926.jpg\n",
      "dog.9357.jpg\n",
      "dog.9792.jpg\n",
      "dog.9839.jpg\n",
      "200\n",
      "23000\n"
     ]
    }
   ],
   "source": [
    "# Copied 200 files from /train to /sample/train\n",
    "%ls ../sample/train/ | head -5 && ls ../sample/train/ | tail -5 && ls ../sample/train/| wc -l\n",
    "%ls | wc -l\n",
    "# /sample/train has 200 files\n",
    "# /train has 23000 files"
   ]
  },
  {
   "cell_type": "code",
   "execution_count": 36,
   "metadata": {
    "collapsed": false
   },
   "outputs": [
    {
     "name": "stdout",
     "output_type": "stream",
     "text": [
      "/home/ubuntu/mydeeplearning1/nbs/data/redux/train\r\n"
     ]
    }
   ],
   "source": [
    "!pwd"
   ]
  },
  {
   "cell_type": "code",
   "execution_count": 41,
   "metadata": {
    "collapsed": false
   },
   "outputs": [
    {
     "name": "stdout",
     "output_type": "stream",
     "text": [
      "/home/ubuntu/mydeeplearning1/nbs/data/redux/valid\n",
      "\u001b[01;34m.\u001b[00m\n",
      "├── \u001b[01;34msample\u001b[00m\n",
      "│   ├── \u001b[01;34mtrain\u001b[00m\n",
      "│   └── \u001b[01;34mvalid\u001b[00m\n",
      "├── \u001b[01;34mtest\u001b[00m\n",
      "├── \u001b[01;34mtrain\u001b[00m\n",
      "└── \u001b[01;34mvalid\u001b[00m\n",
      "\n",
      "6 directories\n",
      "2000\n"
     ]
    }
   ],
   "source": [
    "%cd ../valid\n",
    "# inside the valid folder\n",
    "!cd ../ && tree -d\n",
    "%ls | wc -l"
   ]
  },
  {
   "cell_type": "code",
   "execution_count": 42,
   "metadata": {
    "collapsed": false
   },
   "outputs": [],
   "source": [
    "g = glob('*.jpg')\n",
    "shuf = np.random.permutation(g)\n",
    "for i in range(50): copyfile(shuf[i], '../sample/valid/' + shuf[i])"
   ]
  },
  {
   "cell_type": "code",
   "execution_count": 45,
   "metadata": {
    "collapsed": false
   },
   "outputs": [
    {
     "name": "stdout",
     "output_type": "stream",
     "text": [
      "2000\n",
      "50\n"
     ]
    }
   ],
   "source": [
    "# Copied 50 random files from /valid to /sample/valid\n",
    "# /valid still has 2000 files, /sample/valid has 50\n",
    "%ls | wc -l\n",
    "%ls ../sample/valid/ | wc -l"
   ]
  },
  {
   "cell_type": "code",
   "execution_count": 47,
   "metadata": {
    "collapsed": false
   },
   "outputs": [
    {
     "name": "stdout",
     "output_type": "stream",
     "text": [
      "\u001b[01;34m.\u001b[00m\r\n",
      "├── \u001b[01;34msample\u001b[00m\r\n",
      "│   ├── \u001b[01;34mtrain\u001b[00m\r\n",
      "│   └── \u001b[01;34mvalid\u001b[00m\r\n",
      "├── \u001b[01;34mtest\u001b[00m\r\n",
      "├── \u001b[01;34mtrain\u001b[00m\r\n",
      "└── \u001b[01;34mvalid\u001b[00m\r\n",
      "\r\n",
      "6 directories\r\n"
     ]
    },
    {
     "data": {
      "text/plain": [
       "u'/home/ubuntu/mydeeplearning1/nbs/data/redux/valid'"
      ]
     },
     "execution_count": 47,
     "metadata": {},
     "output_type": "execute_result"
    }
   ],
   "source": [
    "!cd ../ && tree -d\n",
    "%pwd"
   ]
  },
  {
   "cell_type": "code",
   "execution_count": 48,
   "metadata": {
    "collapsed": false
   },
   "outputs": [
    {
     "name": "stdout",
     "output_type": "stream",
     "text": [
      "/home/ubuntu/mydeeplearning1/nbs/data/redux/train\n",
      "/home/ubuntu/mydeeplearning1/nbs/data/redux/valid\n",
      "/home/ubuntu/mydeeplearning1/nbs/data/redux/sample/train\n",
      "/home/ubuntu/mydeeplearning1/nbs/data/redux/sample/valid\n"
     ]
    }
   ],
   "source": [
    "#Move to separate dirs for each set\n",
    "%cd ../train\n",
    "%cd ../valid\n",
    "%cd ../sample/train\n",
    "%cd ../valid"
   ]
  },
  {
   "cell_type": "code",
   "execution_count": 49,
   "metadata": {
    "collapsed": true
   },
   "outputs": [],
   "source": [
    "%mkdir cats\n",
    "%mkdir dogs"
   ]
  },
  {
   "cell_type": "code",
   "execution_count": 51,
   "metadata": {
    "collapsed": false
   },
   "outputs": [
    {
     "name": "stdout",
     "output_type": "stream",
     "text": [
      "\u001b[01;34m.\u001b[00m\r\n",
      "├── \u001b[01;34msample\u001b[00m\r\n",
      "│   ├── \u001b[01;34mtrain\u001b[00m\r\n",
      "│   └── \u001b[01;34mvalid\u001b[00m\r\n",
      "│       ├── \u001b[01;34mcats\u001b[00m\r\n",
      "│       └── \u001b[01;34mdogs\u001b[00m\r\n",
      "├── \u001b[01;34mtest\u001b[00m\r\n",
      "├── \u001b[01;34mtrain\u001b[00m\r\n",
      "└── \u001b[01;34mvalid\u001b[00m\r\n",
      "\r\n",
      "8 directories\r\n"
     ]
    }
   ],
   "source": [
    "!cd ../../ && tree -d"
   ]
  },
  {
   "cell_type": "code",
   "execution_count": 52,
   "metadata": {
    "collapsed": false
   },
   "outputs": [],
   "source": [
    "%mv cat.*.jpg cats/\n",
    "%mv dog.*.jpg dogs/"
   ]
  },
  {
   "cell_type": "code",
   "execution_count": 56,
   "metadata": {
    "collapsed": false
   },
   "outputs": [
    {
     "name": "stdout",
     "output_type": "stream",
     "text": [
      "\u001b[0m\u001b[01;35mcat.10504.jpg\u001b[0m\n",
      "\u001b[01;35mcat.12062.jpg\u001b[0m\n",
      "\u001b[01;35mcat.12444.jpg\u001b[0m\n",
      "\u001b[01;35mcat.1338.jpg\u001b[0m\n",
      "\u001b[01;35mcat.1398.jpg\u001b[0m\n",
      "cat.8312.jpg\n",
      "cat.8578.jpg\n",
      "cat.8590.jpg\n",
      "cat.8662.jpg\n",
      "cat.9031.jpg\n",
      "28\n",
      "\u001b[0m\u001b[01;35mdog.10592.jpg\u001b[0m\n",
      "\u001b[01;35mdog.1113.jpg\u001b[0m\n",
      "\u001b[01;35mdog.12179.jpg\u001b[0m\n",
      "\u001b[01;35mdog.1513.jpg\u001b[0m\n",
      "\u001b[01;35mdog.1519.jpg\u001b[0m\n",
      "dog.8553.jpg\n",
      "dog.8590.jpg\n",
      "dog.8865.jpg\n",
      "dog.9555.jpg\n",
      "dog.9573.jpg\n",
      "22\n"
     ]
    }
   ],
   "source": [
    "%pwd\n",
    "%ls cats | head -5 && ls cats | tail -5 && ls cats  | wc -l\n",
    "%ls dogs | head -5 && ls dogs | tail -5 && ls dogs  | wc -l\n",
    "# 50 random pics, moved into cats and dogs folder, 28 cats in cats folder, 22 dogs in dogs folder"
   ]
  },
  {
   "cell_type": "markdown",
   "metadata": {
    "collapsed": true
   },
   "source": [
    "## Fine tune"
   ]
  },
  {
   "cell_type": "code",
   "execution_count": 66,
   "metadata": {
    "collapsed": true
   },
   "outputs": [],
   "source": [
    "from vgg16 import Vgg16"
   ]
  },
  {
   "cell_type": "code",
   "execution_count": 67,
   "metadata": {
    "collapsed": true
   },
   "outputs": [],
   "source": [
    "vgg = Vgg16()"
   ]
  },
  {
   "cell_type": "code",
   "execution_count": 60,
   "metadata": {
    "collapsed": false
   },
   "outputs": [
    {
     "name": "stdout",
     "output_type": "stream",
     "text": [
      "/home/ubuntu/mydeeplearning1/nbs\n"
     ]
    }
   ],
   "source": [
    "# Without this cannot find directory\n",
    "%cd /home/ubuntu/mydeeplearning1/nbs"
   ]
  },
  {
   "cell_type": "code",
   "execution_count": 75,
   "metadata": {
    "collapsed": false
   },
   "outputs": [
    {
     "name": "stdout",
     "output_type": "stream",
     "text": [
      "Found 0 images belonging to 0 classes.\n"
     ]
    }
   ],
   "source": [
    "# This is where I'm stuck, why 0 images?\n",
    "batches = vgg.get_batches(path + 'train', batch_size=batch_size)"
   ]
  },
  {
   "cell_type": "code",
   "execution_count": null,
   "metadata": {
    "collapsed": true
   },
   "outputs": [],
   "source": [
    "val_batches = vgg.get_batches(path + 'valid', batch_size=batch_size * 2)"
   ]
  },
  {
   "cell_type": "code",
   "execution_count": 61,
   "metadata": {
    "collapsed": false
   },
   "outputs": [
    {
     "name": "stdout",
     "output_type": "stream",
     "text": [
      "Found 0 images belonging to 0 classes.\n",
      "Found 0 images belonging to 0 classes.\n"
     ]
    }
   ],
   "source": [
    "vgg.finetune(batches)"
   ]
  },
  {
   "cell_type": "code",
   "execution_count": null,
   "metadata": {
    "collapsed": false
   },
   "outputs": [],
   "source": [
    "!pwd"
   ]
  },
  {
   "cell_type": "code",
   "execution_count": null,
   "metadata": {
    "collapsed": true
   },
   "outputs": [],
   "source": []
  }
 ],
 "metadata": {
  "anaconda-cloud": {},
  "kernelspec": {
   "display_name": "Python [default]",
   "language": "python",
   "name": "python2"
  },
  "language_info": {
   "codemirror_mode": {
    "name": "ipython",
    "version": 2
   },
   "file_extension": ".py",
   "mimetype": "text/x-python",
   "name": "python",
   "nbconvert_exporter": "python",
   "pygments_lexer": "ipython2",
   "version": "2.7.12"
  },
  "nav_menu": {},
  "nbpresent": {
   "slides": {
    "28b43202-5690-4169-9aca-6b9dabfeb3ec": {
     "id": "28b43202-5690-4169-9aca-6b9dabfeb3ec",
     "prev": null,
     "regions": {
      "3bba644a-cf4d-4a49-9fbd-e2554428cf9f": {
       "attrs": {
        "height": 0.8,
        "width": 0.8,
        "x": 0.1,
        "y": 0.1
       },
       "content": {
        "cell": "f3d3a388-7e2a-4151-9b50-c20498fceacc",
        "part": "whole"
       },
       "id": "3bba644a-cf4d-4a49-9fbd-e2554428cf9f"
      }
     }
    },
    "8104def2-4b68-44a0-8f1b-b03bf3b2a079": {
     "id": "8104def2-4b68-44a0-8f1b-b03bf3b2a079",
     "prev": "28b43202-5690-4169-9aca-6b9dabfeb3ec",
     "regions": {
      "7dded777-1ddf-4100-99ae-25cf1c15b575": {
       "attrs": {
        "height": 0.8,
        "width": 0.8,
        "x": 0.1,
        "y": 0.1
       },
       "content": {
        "cell": "fe47bd48-3414-4657-92e7-8b8d6cb0df00",
        "part": "whole"
       },
       "id": "7dded777-1ddf-4100-99ae-25cf1c15b575"
      }
     }
    }
   },
   "themes": {}
  },
  "toc": {
   "navigate_menu": true,
   "number_sections": true,
   "sideBar": true,
   "threshold": 6,
   "toc_cell": false,
   "toc_section_display": "block",
   "toc_window_display": false
  }
 },
 "nbformat": 4,
 "nbformat_minor": 0
}
